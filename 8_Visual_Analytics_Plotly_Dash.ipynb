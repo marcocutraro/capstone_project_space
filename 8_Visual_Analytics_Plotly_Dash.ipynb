{
  "metadata": {
    "kernelspec": {
      "name": "python",
      "display_name": "Python (Pyodide)",
      "language": "python"
    },
    "language_info": {
      "codemirror_mode": {
        "name": "python",
        "version": 3
      },
      "file_extension": ".py",
      "mimetype": "text/x-python",
      "name": "python",
      "nbconvert_exporter": "python",
      "pygments_lexer": "ipython3",
      "version": "3.8"
    }
  },
  "nbformat_minor": 4,
  "nbformat": 4,
  "cells": [
    {
      "cell_type": "markdown",
      "source": "## Visual Analytics: Build an Interactive Dashboard with Ploty Dash",
      "metadata": {}
    },
    {
      "cell_type": "code",
      "source": "# Import required libraries\nimport pandas as pd\nimport dash\nimport dash_html_components as html\nimport dash_core_components as dcc\nfrom dash.dependencies import Input, Output\nimport plotly.express as px",
      "metadata": {
        "trusted": true
      },
      "outputs": [],
      "execution_count": null
    },
    {
      "cell_type": "code",
      "source": "# Read the airline data into pandas dataframe\nspacex_df = pd.read_csv(\"spacex_launch_dash.csv\")\nmax_payload = spacex_df['Payload Mass (kg)'].max()\nmin_payload = spacex_df['Payload Mass (kg)'].min()",
      "metadata": {
        "trusted": true
      },
      "outputs": [],
      "execution_count": null
    },
    {
      "cell_type": "code",
      "source": "# Create a dash application\napp = dash.Dash(__name__)",
      "metadata": {
        "trusted": true
      },
      "outputs": [],
      "execution_count": null
    },
    {
      "cell_type": "code",
      "source": "# TASK 1: Add a dropdown list to enable Launch Site selection\n# The default select value is for ALL sites\n# dcc.Dropdown(id='site-dropdown',...)\n                                \ndcc.Dropdown(id='site-dropdown',\noptions=[\n    {'label': 'All Sites', 'value': 'All Sites'},\n    {'label': 'CCAFS LC-40', 'value': 'CCAFS LC-40'},\n    {'label': 'VAFB SLC-4E', 'value': 'VAFB SLC-4E'},\n    {'label': 'KSC LC-39A', 'value': 'KSC LC-39A'},\n    {'label': 'CCAFS SLC-40', 'value': 'CCAFS SLC-40'}\n]\nplaceholder='Select a Launch Site Here',\nvalue='All Sites',\nsearchable=True\n),\nhtml.Br(),\n\n                            \n# TASK 2: Add a pie chart to show the total successful launches count for all sites\n# If a specific launch site was selected, show the Success vs. Failed counts for the site\nhtml.Div(dcc.Graph(id='success-pie-chart')),\nhtml.Br(),\n\nhtml.P(\"Payload range (Kg):\"),\n\n# TASK 3: Add a slider to select payload range\n#dcc.RangeSlider(id='payload-slider',...)\ndcc.RangeSlider(id='payload-slider',\nmin=0,\nmax=10000,\nstep=1000,\nmarks={i: '{}'.format(i) for i in range(0, 10001, 1000)},\nvalue=[min_payload, max_payload]),\n\n\n# TASK 4: Add a scatter chart to show the correlation between payload and launch success\nhtml.Div(dcc.Graph(id='success-payload-scatter-chart')),\n])",
      "metadata": {
        "trusted": true
      },
      "outputs": [],
      "execution_count": null
    },
    {
      "cell_type": "code",
      "source": "# Add a callback function for `site-dropdown` as input, `success-pie-chart` as output\n@app.callback( Output(component_id='success-pie-chart', component_property='figure'),\n               Input(component_id='site-dropdown', component_property='value'))\ndef get_pie_chart(launch_site):\n    if launch_site == 'All Sites':\n        fig = px.pie(values=spacex_df.groupby('Launch Site')['class'].mean(), \n                     names=spacex_df.groupby('Launch Site')['Launch Site'].first(),\n                     title='Total Success Launches by Site')\n    else:\n        fig = px.pie(values=spacex_df[spacex_df['Launch Site']==str(launch_site)]['class'].value_counts(normalize=True), \n                     names=spacex_df['class'].unique(), \n                     title='Total Success Launches for Site {}'.format(launch_site))\n    return(fig)\n",
      "metadata": {
        "trusted": true
      },
      "outputs": [],
      "execution_count": null
    },
    {
      "cell_type": "code",
      "source": "# Add a callback function for `site-dropdown` and `payload-slider` as inputs, `success-payload-scatter-chart` as output\n@app.callback( Output(component_id='success-payload-scatter-chart', component_property='figure'),\n              [Input(component_id='site-dropdown', component_property='value'),\n               Input(component_id='payload-slider',component_property='value')])\ndef get_payload_chart(launch_site, payload_mass):\n    if launch_site == 'All Sites':\n        fig = px.scatter(spacex_df[spacex_df['Payload Mass (kg)'].between(payload_mass[0], payload_mass[1])], \n                x=\"Payload Mass (kg)\",\n                y=\"class\",\n                color=\"Booster Version Category\",\n                hover_data=['Launch Site'],\n                title='Correlation Between Payload and Success for All Sites')\n    else:\n        df = spacex_df[spacex_df['Launch Site']==str(launch_site)]\n        fig = px.scatter(df[df['Payload Mass (kg)'].between(payload_mass[0], payload_mass[1])], \n                x=\"Payload Mass (kg)\",\n                y=\"class\",\n                color=\"Booster Version Category\",\n                hover_data=['Launch Site'],\n                title='Correlation Between Payload and Success for Site {}'.format(launch_site))\n    return(fig)",
      "metadata": {
        "trusted": true
      },
      "outputs": [],
      "execution_count": null
    },
    {
      "cell_type": "code",
      "source": "# Run the app\nif __name__ == '__main__':\n    app.run_server()",
      "metadata": {
        "trusted": true
      },
      "outputs": [],
      "execution_count": null
    }
  ]
}